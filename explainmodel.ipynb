{
  "nbformat": 4,
  "nbformat_minor": 0,
  "metadata": {
    "colab": {
      "name": "working shap.ipynb",
      "provenance": []
    },
    "kernelspec": {
      "name": "python3",
      "display_name": "Python 3"
    }
  },
  "cells": [
    {
      "cell_type": "code",
      "metadata": {
        "id": "E8ubWtno3ttb",
        "colab_type": "code",
        "outputId": "4361c543-950c-4381-9134-d0c9680ff672",
        "colab": {
          "base_uri": "https://localhost:8080/",
          "height": 383
        }
      },
      "source": [
        "!pip install shap"
      ],
      "execution_count": 1,
      "outputs": [
        {
          "output_type": "stream",
          "text": [
            "Collecting shap\n",
            "\u001b[?25l  Downloading https://files.pythonhosted.org/packages/57/43/08f152a59a1d60f0328b476bdd58c791498989981ab9c6d595ec5448a86a/shap-0.32.1.tar.gz (259kB)\n",
            "\r\u001b[K     |█▎                              | 10kB 13.8MB/s eta 0:00:01\r\u001b[K     |██▌                             | 20kB 3.1MB/s eta 0:00:01\r\u001b[K     |███▉                            | 30kB 4.5MB/s eta 0:00:01\r\u001b[K     |█████                           | 40kB 3.1MB/s eta 0:00:01\r\u001b[K     |██████▎                         | 51kB 3.9MB/s eta 0:00:01\r\u001b[K     |███████▋                        | 61kB 4.6MB/s eta 0:00:01\r\u001b[K     |████████▉                       | 71kB 5.3MB/s eta 0:00:01\r\u001b[K     |██████████▏                     | 81kB 5.9MB/s eta 0:00:01\r\u001b[K     |███████████▍                    | 92kB 6.6MB/s eta 0:00:01\r\u001b[K     |████████████▋                   | 102kB 5.1MB/s eta 0:00:01\r\u001b[K     |██████████████                  | 112kB 5.1MB/s eta 0:00:01\r\u001b[K     |███████████████▏                | 122kB 5.1MB/s eta 0:00:01\r\u001b[K     |████████████████▍               | 133kB 5.1MB/s eta 0:00:01\r\u001b[K     |█████████████████▊              | 143kB 5.1MB/s eta 0:00:01\r\u001b[K     |███████████████████             | 153kB 5.1MB/s eta 0:00:01\r\u001b[K     |████████████████████▎           | 163kB 5.1MB/s eta 0:00:01\r\u001b[K     |█████████████████████▌          | 174kB 5.1MB/s eta 0:00:01\r\u001b[K     |██████████████████████▊         | 184kB 5.1MB/s eta 0:00:01\r\u001b[K     |████████████████████████        | 194kB 5.1MB/s eta 0:00:01\r\u001b[K     |█████████████████████████▎      | 204kB 5.1MB/s eta 0:00:01\r\u001b[K     |██████████████████████████▌     | 215kB 5.1MB/s eta 0:00:01\r\u001b[K     |███████████████████████████▉    | 225kB 5.1MB/s eta 0:00:01\r\u001b[K     |█████████████████████████████   | 235kB 5.1MB/s eta 0:00:01\r\u001b[K     |██████████████████████████████▍ | 245kB 5.1MB/s eta 0:00:01\r\u001b[K     |███████████████████████████████▋| 256kB 5.1MB/s eta 0:00:01\r\u001b[K     |████████████████████████████████| 266kB 5.1MB/s \n",
            "\u001b[?25hRequirement already satisfied: numpy in /usr/local/lib/python3.6/dist-packages (from shap) (1.17.4)\n",
            "Requirement already satisfied: scipy in /usr/local/lib/python3.6/dist-packages (from shap) (1.3.2)\n",
            "Requirement already satisfied: scikit-learn in /usr/local/lib/python3.6/dist-packages (from shap) (0.21.3)\n",
            "Requirement already satisfied: pandas in /usr/local/lib/python3.6/dist-packages (from shap) (0.25.3)\n",
            "Requirement already satisfied: tqdm>4.25.0 in /usr/local/lib/python3.6/dist-packages (from shap) (4.28.1)\n",
            "Requirement already satisfied: joblib>=0.11 in /usr/local/lib/python3.6/dist-packages (from scikit-learn->shap) (0.14.0)\n",
            "Requirement already satisfied: pytz>=2017.2 in /usr/local/lib/python3.6/dist-packages (from pandas->shap) (2018.9)\n",
            "Requirement already satisfied: python-dateutil>=2.6.1 in /usr/local/lib/python3.6/dist-packages (from pandas->shap) (2.6.1)\n",
            "Requirement already satisfied: six>=1.5 in /usr/local/lib/python3.6/dist-packages (from python-dateutil>=2.6.1->pandas->shap) (1.12.0)\n",
            "Building wheels for collected packages: shap\n",
            "  Building wheel for shap (setup.py) ... \u001b[?25l\u001b[?25hdone\n",
            "  Created wheel for shap: filename=shap-0.32.1-cp36-cp36m-linux_x86_64.whl size=376823 sha256=a75a52eba70e549bee6cb2b4adeb93cff5a6d28ea10b241aa9dd5104a6d81b89\n",
            "  Stored in directory: /root/.cache/pip/wheels/8e/b2/50/8fadb5a59789cb5bdeb01b800223be540651ae92915172050b\n",
            "Successfully built shap\n",
            "Installing collected packages: shap\n",
            "Successfully installed shap-0.32.1\n"
          ],
          "name": "stdout"
        }
      ]
    },
    {
      "cell_type": "code",
      "metadata": {
        "id": "S1wn7fji3vdM",
        "colab_type": "code",
        "outputId": "efbd67ae-a1b8-4a73-f174-245fcfbc6ae5",
        "colab": {
          "base_uri": "https://localhost:8080/",
          "height": 128
        }
      },
      "source": [
        "from google.colab import drive\n",
        "drive.mount('/content/drive')"
      ],
      "execution_count": 2,
      "outputs": [
        {
          "output_type": "stream",
          "text": [
            "Go to this URL in a browser: https://accounts.google.com/o/oauth2/auth?client_id=947318989803-6bn6qk8qdgf4n4g3pfee6491hc0brc4i.apps.googleusercontent.com&redirect_uri=urn%3aietf%3awg%3aoauth%3a2.0%3aoob&response_type=code&scope=email%20https%3a%2f%2fwww.googleapis.com%2fauth%2fdocs.test%20https%3a%2f%2fwww.googleapis.com%2fauth%2fdrive%20https%3a%2f%2fwww.googleapis.com%2fauth%2fdrive.photos.readonly%20https%3a%2f%2fwww.googleapis.com%2fauth%2fpeopleapi.readonly\n",
            "\n",
            "Enter your authorization code:\n",
            "··········\n",
            "Mounted at /content/drive\n"
          ],
          "name": "stdout"
        }
      ]
    },
    {
      "cell_type": "code",
      "metadata": {
        "id": "Mtf33yuL30IX",
        "colab_type": "code",
        "outputId": "d085e497-db53-43ed-cc21-d116f0d49794",
        "colab": {
          "base_uri": "https://localhost:8080/",
          "height": 629
        }
      },
      "source": [
        "from tensorflow.examples.tutorials.mnist import input_data\n",
        "\n",
        "#import data\n",
        "mnist = input_data.read_data_sets(\"MNIST_data/\", one_hot=True)"
      ],
      "execution_count": 3,
      "outputs": [
        {
          "output_type": "display_data",
          "data": {
            "text/html": [
              "<p style=\"color: red;\">\n",
              "The default version of TensorFlow in Colab will soon switch to TensorFlow 2.x.<br>\n",
              "We recommend you <a href=\"https://www.tensorflow.org/guide/migrate\" target=\"_blank\">upgrade</a> now \n",
              "or ensure your notebook will continue to use TensorFlow 1.x via the <code>%tensorflow_version 1.x</code> magic:\n",
              "<a href=\"https://colab.research.google.com/notebooks/tensorflow_version.ipynb\" target=\"_blank\">more info</a>.</p>\n"
            ],
            "text/plain": [
              "<IPython.core.display.HTML object>"
            ]
          },
          "metadata": {
            "tags": []
          }
        },
        {
          "output_type": "stream",
          "text": [
            "WARNING:tensorflow:From <ipython-input-3-38dc9437001a>:4: read_data_sets (from tensorflow.contrib.learn.python.learn.datasets.mnist) is deprecated and will be removed in a future version.\n",
            "Instructions for updating:\n",
            "Please use alternatives such as official/mnist/dataset.py from tensorflow/models.\n",
            "WARNING:tensorflow:From /usr/local/lib/python3.6/dist-packages/tensorflow_core/contrib/learn/python/learn/datasets/mnist.py:260: maybe_download (from tensorflow.contrib.learn.python.learn.datasets.base) is deprecated and will be removed in a future version.\n",
            "Instructions for updating:\n",
            "Please write your own downloading logic.\n",
            "WARNING:tensorflow:From /usr/local/lib/python3.6/dist-packages/tensorflow_core/contrib/learn/python/learn/datasets/base.py:252: _internal_retry.<locals>.wrap.<locals>.wrapped_fn (from tensorflow.contrib.learn.python.learn.datasets.base) is deprecated and will be removed in a future version.\n",
            "Instructions for updating:\n",
            "Please use urllib or similar directly.\n",
            "Successfully downloaded train-images-idx3-ubyte.gz 9912422 bytes.\n",
            "WARNING:tensorflow:From /usr/local/lib/python3.6/dist-packages/tensorflow_core/contrib/learn/python/learn/datasets/mnist.py:262: extract_images (from tensorflow.contrib.learn.python.learn.datasets.mnist) is deprecated and will be removed in a future version.\n",
            "Instructions for updating:\n",
            "Please use tf.data to implement this functionality.\n",
            "Extracting MNIST_data/train-images-idx3-ubyte.gz\n",
            "Successfully downloaded train-labels-idx1-ubyte.gz 28881 bytes.\n",
            "WARNING:tensorflow:From /usr/local/lib/python3.6/dist-packages/tensorflow_core/contrib/learn/python/learn/datasets/mnist.py:267: extract_labels (from tensorflow.contrib.learn.python.learn.datasets.mnist) is deprecated and will be removed in a future version.\n",
            "Instructions for updating:\n",
            "Please use tf.data to implement this functionality.\n",
            "Extracting MNIST_data/train-labels-idx1-ubyte.gz\n",
            "WARNING:tensorflow:From /usr/local/lib/python3.6/dist-packages/tensorflow_core/contrib/learn/python/learn/datasets/mnist.py:110: dense_to_one_hot (from tensorflow.contrib.learn.python.learn.datasets.mnist) is deprecated and will be removed in a future version.\n",
            "Instructions for updating:\n",
            "Please use tf.one_hot on tensors.\n",
            "Successfully downloaded t10k-images-idx3-ubyte.gz 1648877 bytes.\n",
            "Extracting MNIST_data/t10k-images-idx3-ubyte.gz\n",
            "Successfully downloaded t10k-labels-idx1-ubyte.gz 4542 bytes.\n",
            "Extracting MNIST_data/t10k-labels-idx1-ubyte.gz\n",
            "WARNING:tensorflow:From /usr/local/lib/python3.6/dist-packages/tensorflow_core/contrib/learn/python/learn/datasets/mnist.py:290: DataSet.__init__ (from tensorflow.contrib.learn.python.learn.datasets.mnist) is deprecated and will be removed in a future version.\n",
            "Instructions for updating:\n",
            "Please use alternatives such as official/mnist/dataset.py from tensorflow/models.\n"
          ],
          "name": "stdout"
        }
      ]
    },
    {
      "cell_type": "code",
      "metadata": {
        "id": "5IVn5yHn39IW",
        "colab_type": "code",
        "colab": {}
      },
      "source": [
        "#import modules\n",
        "import sys\n",
        "import tensorflow as tf\n",
        "from PIL import Image,ImageFilter\n",
        "import shap"
      ],
      "execution_count": 0,
      "outputs": []
    },
    {
      "cell_type": "code",
      "metadata": {
        "id": "NeauJyty4Awb",
        "colab_type": "code",
        "colab": {}
      },
      "source": [
        "def imageprepare(argv):\n",
        "    \"\"\"\n",
        "    This function returns the pixel values.\n",
        "    The imput is a png file location.\n",
        "    \"\"\"\n",
        "    im = Image.open(argv).convert('L')\n",
        "    width = float(im.size[0])\n",
        "    height = float(im.size[1])\n",
        "    newImage = Image.new('L', (28, 28), (255)) #creates white canvas of 28x28 pixels\n",
        "    \n",
        "    if width > height: #check which dimension is bigger\n",
        "        #Width is bigger. Width becomes 20 pixels.\n",
        "        nheight = int(round((20.0/width*height),0)) #resize height according to ratio width\n",
        "        if (nheight == 0): #rare case but minimum is 1 pixel\n",
        "            nheight = 1\n",
        "        # resize and sharpen\n",
        "        img = im.resize((20,nheight), Image.ANTIALIAS).filter(ImageFilter.SHARPEN)\n",
        "        wtop = int(round(((28 - nheight)/2),0)) #caculate horizontal pozition\n",
        "        newImage.paste(img, (4, wtop)) #paste resized image on white canvas\n",
        "    else:\n",
        "        #Height is bigger. Heigth becomes 20 pixels. \n",
        "        nwidth = int(round((20.0/height*width),0)) #resize width according to ratio height\n",
        "        if (nwidth == 0): #rare case but minimum is 1 pixel\n",
        "            nwidth = 1\n",
        "         # resize and sharpen\n",
        "        img = im.resize((nwidth,20), Image.ANTIALIAS).filter(ImageFilter.SHARPEN)\n",
        "        wleft = int(round(((28 - nwidth)/2),0)) #caculate vertical pozition\n",
        "        newImage.paste(img, (wleft, 4)) #paste resized image on white canvas\n",
        "    \n",
        "    #newImage.save(\"sample.png\")\n",
        "\n",
        "    tv = list(newImage.getdata()) #get pixel values\n",
        "    \n",
        "    #normalize pixels to 0 and 1. 0 is pure white, 1 is pure black.\n",
        "    tva = [ (255-x)*1.0/255.0 for x in tv] \n",
        "    i =np.asarray(tva) \n",
        "    i=i.reshape(1,len(tva))\n",
        "    return i\n",
        "    #print(tva)"
      ],
      "execution_count": 0,
      "outputs": []
    },
    {
      "cell_type": "code",
      "metadata": {
        "id": "sBWi4Wi4G6Z_",
        "colab_type": "code",
        "colab": {}
      },
      "source": [
        "def predictint_layerwise(imvalue):\n",
        "    \"\"\"\n",
        "    This function returns the predicted integer.\n",
        "    The input is the pixel values from the imageprepare() function.\n",
        "    \"\"\"\n",
        "    \n",
        "    # Define the model (same as when creating the model file)\n",
        "    x = tf.placeholder(tf.float32, [None, 784])\n",
        "    W = tf.Variable(tf.zeros([784, 10]))\n",
        "    b = tf.Variable(tf.zeros([10]))\n",
        "    y = tf.nn.softmax(tf.matmul(x, W) + b)\n",
        "\n",
        "    init_op = tf.global_variables_initializer()\n",
        "    saver = tf.train.Saver()\n",
        "    \n",
        "    \"\"\"\n",
        "    Load the model.ckpt file\n",
        "    file is stored in the same directory as this python script is started\n",
        "    Use the model to predict the integer. Integer is returend as list.\n",
        "    Based on the documentatoin at\n",
        "    https://www.tensorflow.org/versions/master/how_tos/variables/index.html\n",
        "    \"\"\"\n",
        "    with tf.Session() as sess:\n",
        "        sess.run(init_op)\n",
        "        saver.restore(sess, \"/content/drive/My Drive/model2/model.ckpt\")  \n",
        "        ops_list = tf.get_default_graph().get_operations()\n",
        "        tensors_list2 = [tensor for op in ops_list for tensor in op.inputs]\n",
        "        print(tensors_list2)\n",
        "        tensors_list1 = [tensor for op in ops_list for tensor in op.outputs]\n",
        "        print(tensors_list1)\n",
        "        to_explain = mnist.test.images[1:3]\n",
        "        IN = tf.get_default_graph().get_tensor_by_name('Placeholder:0')\n",
        "        OUT = tf.get_default_graph().get_tensor_by_name('Softmax:0')\n",
        "        tensor_dict = {}\n",
        "        tensor_dict['IN'] = IN\n",
        "        tensor_dict['OUT'] = OUT\n",
        "        #only_image = sess.run(tensor_dict,feed_dict={x: [imvalue]})\n",
        "        #new_dict = sess.run(tensor_dict, feed_dict={x: mnist.test.images})\n",
        "        #print(new_dict)\n",
        "        e = shap.GradientExplainer((IN, OUT),mnist.test.images[0:2000],sess)\n",
        "        shap_values = e.shap_values([imvalue],nsamples=200, ranked_outputs=2)\n",
        "        #shap_values, indexes = e.shap_values(new_dict, ranked_outputs=2)       \n",
        "        return shap_values"
      ],
      "execution_count": 0,
      "outputs": []
    },
    {
      "cell_type": "code",
      "metadata": {
        "id": "apVGyiTfq-ZX",
        "colab_type": "code",
        "colab": {}
      },
      "source": [
        ""
      ],
      "execution_count": 0,
      "outputs": []
    },
    {
      "cell_type": "code",
      "metadata": {
        "id": "xSOJY2aoq-IU",
        "colab_type": "code",
        "colab": {}
      },
      "source": [
        "def predictint_layerwise(imvalue,model_path):\n",
        "    \"\"\"\n",
        "    This function returns the predicted integer.\n",
        "    The input is the pixel values from the imageprepare() function.\n",
        "    \"\"\"\n",
        "    tf.reset_default_graph()\n",
        "    # Define the model (same as when creating the model file)\n",
        "    x = tf.placeholder(tf.float32, [None, 784])\n",
        "    W = tf.Variable(tf.zeros([784, 10]))\n",
        "    b = tf.Variable(tf.zeros([10]))\n",
        "    y = tf.nn.softmax(tf.matmul(x, W) + b)\n",
        "\n",
        "    init_op = tf.global_variables_initializer()\n",
        "    saver = tf.train.Saver()\n",
        "    \n",
        "    \"\"\"\n",
        "    Load the model.ckpt file\n",
        "    file is stored in the same directory as this python script is started\n",
        "    Use the model to predict the integer. Integer is returend as list.\n",
        "    Based on the documentatoin at\n",
        "    https://www.tensorflow.org/versions/master/how_tos/variables/index.html\n",
        "    \"\"\"\n",
        "    with tf.Session() as sess:\n",
        "        sess.run(init_op)\n",
        "        saver.restore(sess, model_path)\n",
        "        IN = tf.get_default_graph().get_tensor_by_name('Placeholder:0')\n",
        "        OUT = tf.get_default_graph().get_tensor_by_name('Softmax:0')\n",
        "        e = shap.GradientExplainer((IN, OUT),mnist.test.images[0:2000],sess)\n",
        "        shap_values = e.shap_values(imvalue,nsamples=200, ranked_outputs=2)\n",
        "        return shap_values"
      ],
      "execution_count": 0,
      "outputs": []
    },
    {
      "cell_type": "code",
      "metadata": {
        "id": "rICDckq14Kms",
        "colab_type": "code",
        "outputId": "15b32bee-5ac7-482c-d488-67d0d65aa57d",
        "colab": {
          "base_uri": "https://localhost:8080/",
          "height": 315
        }
      },
      "source": [
        "import numpy as np\n",
        "\n",
        "imvalue = imageprepare(\"/content/1.png\")\n",
        "shap_values=predictint_layerwise(imvalue,\"/content/drive/My Drive/model2/model.ckpt\")\n",
        "reshaped_value=[]\n",
        "for x in shap_values[0]:\n",
        "    reshaped_value.append(x.reshape(x.shape[0], 28, 28,1))\n",
        "img_reshaped = imvalue.reshape(1,28,28,1)\n",
        "shap.image_plot(reshaped_value,img_reshaped,shap_values[1])"
      ],
      "execution_count": 15,
      "outputs": [
        {
          "output_type": "stream",
          "text": [
            "INFO:tensorflow:Restoring parameters from /content/drive/My Drive/model2/model.ckpt\n"
          ],
          "name": "stdout"
        },
        {
          "output_type": "stream",
          "text": [
            "Using TensorFlow backend.\n"
          ],
          "name": "stderr"
        },
        {
          "output_type": "display_data",
          "data": {
            "image/png": "[encoded data removed]",
            "text/plain": [
              "<Figure size 648x360 with 4 Axes>"
            ]
          },
          "metadata": {
            "tags": []
          }
        }
      ]
    },
    {
      "cell_type": "code",
      "metadata": {
        "id": "M7Kchl7SMR3D",
        "colab_type": "code",
        "outputId": "a8202dc1-0619-4fa5-8022-755f5ba1e8bf",
        "colab": {
          "base_uri": "https://localhost:8080/",
          "height": 35
        }
      },
      "source": [
        "shap_values[1]"
      ],
      "execution_count": 0,
      "outputs": [
        {
          "output_type": "execute_result",
          "data": {
            "text/plain": [
              "0.0"
            ]
          },
          "metadata": {
            "tags": []
          },
          "execution_count": 28
        }
      ]
    },
    {
      "cell_type": "code",
      "metadata": {
        "id": "MnuFmE4JeCTP",
        "colab_type": "code",
        "colab": {}
      },
      "source": [
        "import numpy as np\n",
        "i =np.asarray(shap_values) \n",
        "k=i.reshape(28,28,1)"
      ],
      "execution_count": 0,
      "outputs": []
    },
    {
      "cell_type": "code",
      "metadata": {
        "id": "6gYGlhb75VFu",
        "colab_type": "code",
        "outputId": "5f51521c-ae9f-4d33-fc2f-0ddc6446e414",
        "colab": {
          "base_uri": "https://localhost:8080/",
          "height": 244
        }
      },
      "source": [
        "j=[]\n",
        "for x in shap_values[0]:\n",
        "  k = x.reshape(x.shape[0], 28, 28,1)  \n",
        "  j.append(k)\n",
        "  "
      ],
      "execution_count": 0,
      "outputs": [
        {
          "output_type": "error",
          "ename": "TypeError",
          "evalue": "ignored",
          "traceback": [
            "\u001b[0;31m---------------------------------------------------------------------------\u001b[0m",
            "\u001b[0;31mTypeError\u001b[0m                                 Traceback (most recent call last)",
            "\u001b[0;32m<ipython-input-23-9337630df712>\u001b[0m in \u001b[0;36m<module>\u001b[0;34m()\u001b[0m\n\u001b[1;32m      1\u001b[0m \u001b[0mj\u001b[0m\u001b[0;34m=\u001b[0m\u001b[0;34m[\u001b[0m\u001b[0;34m]\u001b[0m\u001b[0;34m\u001b[0m\u001b[0;34m\u001b[0m\u001b[0m\n\u001b[0;32m----> 2\u001b[0;31m \u001b[0;32mfor\u001b[0m \u001b[0mx\u001b[0m \u001b[0;32min\u001b[0m \u001b[0mshap_values\u001b[0m\u001b[0;34m[\u001b[0m\u001b[0;36m0\u001b[0m\u001b[0;34m]\u001b[0m\u001b[0;34m:\u001b[0m\u001b[0;34m\u001b[0m\u001b[0;34m\u001b[0m\u001b[0m\n\u001b[0m\u001b[1;32m      3\u001b[0m   \u001b[0mk\u001b[0m \u001b[0;34m=\u001b[0m \u001b[0mx\u001b[0m\u001b[0;34m.\u001b[0m\u001b[0mreshape\u001b[0m\u001b[0;34m(\u001b[0m\u001b[0mx\u001b[0m\u001b[0;34m.\u001b[0m\u001b[0mshape\u001b[0m\u001b[0;34m[\u001b[0m\u001b[0;36m0\u001b[0m\u001b[0;34m]\u001b[0m\u001b[0;34m,\u001b[0m \u001b[0;36m28\u001b[0m\u001b[0;34m,\u001b[0m \u001b[0;36m28\u001b[0m\u001b[0;34m,\u001b[0m\u001b[0;36m1\u001b[0m\u001b[0;34m)\u001b[0m\u001b[0;34m\u001b[0m\u001b[0;34m\u001b[0m\u001b[0m\n\u001b[1;32m      4\u001b[0m   \u001b[0mj\u001b[0m\u001b[0;34m.\u001b[0m\u001b[0mappend\u001b[0m\u001b[0;34m(\u001b[0m\u001b[0mk\u001b[0m\u001b[0;34m)\u001b[0m\u001b[0;34m\u001b[0m\u001b[0;34m\u001b[0m\u001b[0m\n\u001b[1;32m      5\u001b[0m \u001b[0;34m\u001b[0m\u001b[0m\n",
            "\u001b[0;31mTypeError\u001b[0m: 'float' object is not iterable"
          ]
        }
      ]
    },
    {
      "cell_type": "code",
      "metadata": {
        "id": "UBL1OevZD3X3",
        "colab_type": "code",
        "outputId": "a29470c2-3d37-4abd-c1d9-d060b234e5a6",
        "colab": {
          "base_uri": "https://localhost:8080/",
          "height": 35
        }
      },
      "source": [
        "i = mnist.test.images.reshape(mnist.test.images.shape[0], 28, 28,1) \n",
        "print(i.shape)"
      ],
      "execution_count": 0,
      "outputs": [
        {
          "output_type": "stream",
          "text": [
            "(10000, 28, 28, 1)\n"
          ],
          "name": "stdout"
        }
      ]
    },
    {
      "cell_type": "code",
      "metadata": {
        "id": "l0MXtMVPCcuO",
        "colab_type": "code",
        "outputId": "9725ca06-9f8f-414a-fe43-b58d16497f49",
        "colab": {
          "base_uri": "https://localhost:8080/",
          "height": 318
        }
      },
      "source": [
        "shap.image_plot(j,i[1:2],k[1])"
      ],
      "execution_count": 0,
      "outputs": [
        {
          "output_type": "error",
          "ename": "IndexError",
          "evalue": "ignored",
          "traceback": [
            "\u001b[0;31m---------------------------------------------------------------------------\u001b[0m",
            "\u001b[0;31mIndexError\u001b[0m                                Traceback (most recent call last)",
            "\u001b[0;32m<ipython-input-26-ee4112f3d03f>\u001b[0m in \u001b[0;36m<module>\u001b[0;34m()\u001b[0m\n\u001b[0;32m----> 1\u001b[0;31m \u001b[0mshap\u001b[0m\u001b[0;34m.\u001b[0m\u001b[0mimage_plot\u001b[0m\u001b[0;34m(\u001b[0m\u001b[0mj\u001b[0m\u001b[0;34m,\u001b[0m\u001b[0mi\u001b[0m\u001b[0;34m[\u001b[0m\u001b[0;36m1\u001b[0m\u001b[0;34m:\u001b[0m\u001b[0;36m2\u001b[0m\u001b[0;34m]\u001b[0m\u001b[0;34m,\u001b[0m\u001b[0mk\u001b[0m\u001b[0;34m)\u001b[0m\u001b[0;34m\u001b[0m\u001b[0;34m\u001b[0m\u001b[0m\n\u001b[0m",
            "\u001b[0;32m/usr/local/lib/python3.6/dist-packages/shap/plots/image.py\u001b[0m in \u001b[0;36mimage_plot\u001b[0;34m(shap_values, x, labels, show, width, aspect, hspace, labelpad)\u001b[0m\n\u001b[1;32m     19\u001b[0m     \u001b[0;31m# make sure labels\u001b[0m\u001b[0;34m\u001b[0m\u001b[0;34m\u001b[0m\u001b[0;34m\u001b[0m\u001b[0m\n\u001b[1;32m     20\u001b[0m     \u001b[0;32mif\u001b[0m \u001b[0mlabels\u001b[0m \u001b[0;32mis\u001b[0m \u001b[0;32mnot\u001b[0m \u001b[0;32mNone\u001b[0m\u001b[0;34m:\u001b[0m\u001b[0;34m\u001b[0m\u001b[0;34m\u001b[0m\u001b[0m\n\u001b[0;32m---> 21\u001b[0;31m         \u001b[0;32massert\u001b[0m \u001b[0mlabels\u001b[0m\u001b[0;34m.\u001b[0m\u001b[0mshape\u001b[0m\u001b[0;34m[\u001b[0m\u001b[0;36m0\u001b[0m\u001b[0;34m]\u001b[0m \u001b[0;34m==\u001b[0m \u001b[0mshap_values\u001b[0m\u001b[0;34m[\u001b[0m\u001b[0;36m0\u001b[0m\u001b[0;34m]\u001b[0m\u001b[0;34m.\u001b[0m\u001b[0mshape\u001b[0m\u001b[0;34m[\u001b[0m\u001b[0;36m0\u001b[0m\u001b[0;34m]\u001b[0m\u001b[0;34m,\u001b[0m \u001b[0;34m\"Labels must have same row count as shap_values arrays!\"\u001b[0m\u001b[0;34m\u001b[0m\u001b[0;34m\u001b[0m\u001b[0m\n\u001b[0m\u001b[1;32m     22\u001b[0m         \u001b[0;32mif\u001b[0m \u001b[0mmulti_output\u001b[0m\u001b[0;34m:\u001b[0m\u001b[0;34m\u001b[0m\u001b[0;34m\u001b[0m\u001b[0m\n\u001b[1;32m     23\u001b[0m             \u001b[0;32massert\u001b[0m \u001b[0mlabels\u001b[0m\u001b[0;34m.\u001b[0m\u001b[0mshape\u001b[0m\u001b[0;34m[\u001b[0m\u001b[0;36m1\u001b[0m\u001b[0;34m]\u001b[0m \u001b[0;34m==\u001b[0m \u001b[0mlen\u001b[0m\u001b[0;34m(\u001b[0m\u001b[0mshap_values\u001b[0m\u001b[0;34m)\u001b[0m\u001b[0;34m,\u001b[0m \u001b[0;34m\"Labels must have a column for each output in shap_values!\"\u001b[0m\u001b[0;34m\u001b[0m\u001b[0;34m\u001b[0m\u001b[0m\n",
            "\u001b[0;31mIndexError\u001b[0m: list index out of range"
          ]
        }
      ]
    },
    {
      "cell_type": "code",
      "metadata": {
        "id": "xjB1ejS9Deey",
        "colab_type": "code",
        "outputId": "659fe362-eea6-421e-8869-47fa2784c99b",
        "colab": {
          "base_uri": "https://localhost:8080/",
          "height": 585
        }
      },
      "source": [
        "# summarize the effects of all the features\n",
        "shap.summary_plot(shap_values,mnist.test.images[1:5])"
      ],
      "execution_count": 0,
      "outputs": [
        {
          "output_type": "display_data",
          "data": {
            "image/png": "[encoded data removed]",
            "text/plain": [
              "<Figure size 576x684 with 1 Axes>"
            ]
          },
          "metadata": {
            "tags": []
          }
        }
      ]
    },
    {
      "cell_type": "code",
      "metadata": {
        "id": "qI4OTsxs4EOu",
        "colab_type": "code",
        "colab": {}
      },
      "source": [
        "\n",
        "def predictint(imvalue):\n",
        "    \"\"\"\n",
        "    This function returns the predicted integer.\n",
        "    The input is the pixel values from the imageprepare() function.\n",
        "    \"\"\"\n",
        "    \n",
        "    # Define the model (same as when creating the model file)\n",
        "    x = tf.placeholder(tf.float32, [None, 784])\n",
        "    W = tf.Variable(tf.zeros([784, 10]))\n",
        "    b = tf.Variable(tf.zeros([10]))\n",
        "    y = tf.nn.softmax(tf.matmul(x, W) + b)\n",
        "\n",
        "    init_op = tf.global_variables_initializer()\n",
        "    saver = tf.train.Saver()\n",
        "    \n",
        "    \"\"\"\n",
        "    Load the model.ckpt file\n",
        "    file is stored in the same directory as this python script is started\n",
        "    Use the model to predict the integer. Integer is returend as list.\n",
        "    Based on the documentatoin at\n",
        "    https://www.tensorflow.org/versions/master/how_tos/variables/index.html\n",
        "    \"\"\"\n",
        "    with tf.Session() as sess:\n",
        "        sess.run(init_op)\n",
        "        saver.restore(sess, \"/content/drive/My Drive/model2/model.ckpt\")\n",
        "        #print (\"Model restored.\")\n",
        "        ops_list = tf.get_default_graph().get_operations()\n",
        "        tensors_list2 = [tensor for op in ops_list for tensor in op.inputs]\n",
        "        print(tensors_list2)\n",
        "        tensors_list1 = [tensor for op in ops_list for tensor in op.outputs]\n",
        "        print(tensors_list1)\n",
        "        prediction=tf.argmax(y,1)\n",
        "        k= prediction.eval(feed_dict={x: [imvalue]}, session=sess)\n",
        "        IN = tf.get_default_graph().get_tensor_by_name('Placeholder:0')\n",
        "        OUT = tf.get_default_graph().get_tensor_by_name('Softmax:0')\n",
        "        e = shap.GradientExplainer((IN,OUT),mnist.test.images[0:2000],sess)\n",
        "        shap_values = e.shap_values(mnist.test.images[1:5])\n",
        "        print(shap_values[0].shape)\n",
        "        # plot the feature attributions\n",
        "        #shap.image_plot(shap_values, -mnist.test.images[1:5])\n",
        "        return k,shap_values"
      ],
      "execution_count": 0,
      "outputs": []
    }
  ]
}